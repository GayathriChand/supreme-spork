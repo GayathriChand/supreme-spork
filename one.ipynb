import requests
import urllib.request
from bs4 import BeautifulSoup

from bs4 import BeautifulSoup
url = 'https://www.sfu.ca/computing/people/faculty.html'
response = requests.get(url)

soup = BeautifulSoup(response.content)
staff = soup.find_all('div', attrs={'class', 'textimage section'})

import pandas as pd
table = pd.DataFrame(columns = ['Name', 'Title', 'Area'])

#store the results in the table

for num, slot in enumerate(staff):
    temp=slot.find_all('h4')
    name=temp[0].text.split(',')[0]
    title=temp[0].text.split(',')[1]
                       #temp is a list consisting of name and title
                       #Note: Area of interest may or may not be present so intialize it with None
    areaslot=slot.find_all('p')
    area=areaslot[0].text.split(':')
    field = None
    if(len(area)==2):
        field=area[1]
    table.loc[num] = [name, title,field]
table.shape
